{
  "nbformat": 4,
  "nbformat_minor": 0,
  "metadata": {
    "colab": {
      "provenance": [],
      "toc_visible": true,
      "authorship_tag": "ABX9TyPHfDf+XuzyEakUcpm2Qq1p"
    },
    "kernelspec": {
      "name": "python3",
      "display_name": "Python 3"
    },
    "language_info": {
      "name": "python"
    },
    "widgets": {
      "application/vnd.jupyter.widget-state+json": {
        "057c335c55c04ebc89f065c234c319f3": {
          "model_module": "@jupyter-widgets/controls",
          "model_name": "VBoxModel",
          "model_module_version": "1.5.0",
          "state": {
            "_dom_classes": [],
            "_model_module": "@jupyter-widgets/controls",
            "_model_module_version": "1.5.0",
            "_model_name": "VBoxModel",
            "_view_count": null,
            "_view_module": "@jupyter-widgets/controls",
            "_view_module_version": "1.5.0",
            "_view_name": "VBoxView",
            "box_style": "",
            "children": [
              "IPY_MODEL_9f64274a35f54164b19112fbedc77718",
              "IPY_MODEL_79e4b9e15ced43f3be771d10031f30b9"
            ],
            "layout": "IPY_MODEL_6ec60420097e418694f9b53bd994b41e"
          }
        },
        "9f64274a35f54164b19112fbedc77718": {
          "model_module": "@jupyter-widgets/controls",
          "model_name": "LabelModel",
          "model_module_version": "1.5.0",
          "state": {
            "_dom_classes": [],
            "_model_module": "@jupyter-widgets/controls",
            "_model_module_version": "1.5.0",
            "_model_name": "LabelModel",
            "_view_count": null,
            "_view_module": "@jupyter-widgets/controls",
            "_view_module_version": "1.5.0",
            "_view_name": "LabelView",
            "description": "",
            "description_tooltip": null,
            "layout": "IPY_MODEL_cda0f8abcc534075b273f6fd1441b142",
            "placeholder": "​",
            "style": "IPY_MODEL_7ad4cba300d145cb83efee3cff942a76",
            "value": "102.897 MB of 102.897 MB uploaded\r"
          }
        },
        "79e4b9e15ced43f3be771d10031f30b9": {
          "model_module": "@jupyter-widgets/controls",
          "model_name": "FloatProgressModel",
          "model_module_version": "1.5.0",
          "state": {
            "_dom_classes": [],
            "_model_module": "@jupyter-widgets/controls",
            "_model_module_version": "1.5.0",
            "_model_name": "FloatProgressModel",
            "_view_count": null,
            "_view_module": "@jupyter-widgets/controls",
            "_view_module_version": "1.5.0",
            "_view_name": "ProgressView",
            "bar_style": "",
            "description": "",
            "description_tooltip": null,
            "layout": "IPY_MODEL_485c6b1dfbee4c0588bdc3062c35c98c",
            "max": 1,
            "min": 0,
            "orientation": "horizontal",
            "style": "IPY_MODEL_62748624b38c463682b1af5fff57592e",
            "value": 1
          }
        },
        "6ec60420097e418694f9b53bd994b41e": {
          "model_module": "@jupyter-widgets/base",
          "model_name": "LayoutModel",
          "model_module_version": "1.2.0",
          "state": {
            "_model_module": "@jupyter-widgets/base",
            "_model_module_version": "1.2.0",
            "_model_name": "LayoutModel",
            "_view_count": null,
            "_view_module": "@jupyter-widgets/base",
            "_view_module_version": "1.2.0",
            "_view_name": "LayoutView",
            "align_content": null,
            "align_items": null,
            "align_self": null,
            "border": null,
            "bottom": null,
            "display": null,
            "flex": null,
            "flex_flow": null,
            "grid_area": null,
            "grid_auto_columns": null,
            "grid_auto_flow": null,
            "grid_auto_rows": null,
            "grid_column": null,
            "grid_gap": null,
            "grid_row": null,
            "grid_template_areas": null,
            "grid_template_columns": null,
            "grid_template_rows": null,
            "height": null,
            "justify_content": null,
            "justify_items": null,
            "left": null,
            "margin": null,
            "max_height": null,
            "max_width": null,
            "min_height": null,
            "min_width": null,
            "object_fit": null,
            "object_position": null,
            "order": null,
            "overflow": null,
            "overflow_x": null,
            "overflow_y": null,
            "padding": null,
            "right": null,
            "top": null,
            "visibility": null,
            "width": null
          }
        },
        "cda0f8abcc534075b273f6fd1441b142": {
          "model_module": "@jupyter-widgets/base",
          "model_name": "LayoutModel",
          "model_module_version": "1.2.0",
          "state": {
            "_model_module": "@jupyter-widgets/base",
            "_model_module_version": "1.2.0",
            "_model_name": "LayoutModel",
            "_view_count": null,
            "_view_module": "@jupyter-widgets/base",
            "_view_module_version": "1.2.0",
            "_view_name": "LayoutView",
            "align_content": null,
            "align_items": null,
            "align_self": null,
            "border": null,
            "bottom": null,
            "display": null,
            "flex": null,
            "flex_flow": null,
            "grid_area": null,
            "grid_auto_columns": null,
            "grid_auto_flow": null,
            "grid_auto_rows": null,
            "grid_column": null,
            "grid_gap": null,
            "grid_row": null,
            "grid_template_areas": null,
            "grid_template_columns": null,
            "grid_template_rows": null,
            "height": null,
            "justify_content": null,
            "justify_items": null,
            "left": null,
            "margin": null,
            "max_height": null,
            "max_width": null,
            "min_height": null,
            "min_width": null,
            "object_fit": null,
            "object_position": null,
            "order": null,
            "overflow": null,
            "overflow_x": null,
            "overflow_y": null,
            "padding": null,
            "right": null,
            "top": null,
            "visibility": null,
            "width": null
          }
        },
        "7ad4cba300d145cb83efee3cff942a76": {
          "model_module": "@jupyter-widgets/controls",
          "model_name": "DescriptionStyleModel",
          "model_module_version": "1.5.0",
          "state": {
            "_model_module": "@jupyter-widgets/controls",
            "_model_module_version": "1.5.0",
            "_model_name": "DescriptionStyleModel",
            "_view_count": null,
            "_view_module": "@jupyter-widgets/base",
            "_view_module_version": "1.2.0",
            "_view_name": "StyleView",
            "description_width": ""
          }
        },
        "485c6b1dfbee4c0588bdc3062c35c98c": {
          "model_module": "@jupyter-widgets/base",
          "model_name": "LayoutModel",
          "model_module_version": "1.2.0",
          "state": {
            "_model_module": "@jupyter-widgets/base",
            "_model_module_version": "1.2.0",
            "_model_name": "LayoutModel",
            "_view_count": null,
            "_view_module": "@jupyter-widgets/base",
            "_view_module_version": "1.2.0",
            "_view_name": "LayoutView",
            "align_content": null,
            "align_items": null,
            "align_self": null,
            "border": null,
            "bottom": null,
            "display": null,
            "flex": null,
            "flex_flow": null,
            "grid_area": null,
            "grid_auto_columns": null,
            "grid_auto_flow": null,
            "grid_auto_rows": null,
            "grid_column": null,
            "grid_gap": null,
            "grid_row": null,
            "grid_template_areas": null,
            "grid_template_columns": null,
            "grid_template_rows": null,
            "height": null,
            "justify_content": null,
            "justify_items": null,
            "left": null,
            "margin": null,
            "max_height": null,
            "max_width": null,
            "min_height": null,
            "min_width": null,
            "object_fit": null,
            "object_position": null,
            "order": null,
            "overflow": null,
            "overflow_x": null,
            "overflow_y": null,
            "padding": null,
            "right": null,
            "top": null,
            "visibility": null,
            "width": null
          }
        },
        "62748624b38c463682b1af5fff57592e": {
          "model_module": "@jupyter-widgets/controls",
          "model_name": "ProgressStyleModel",
          "model_module_version": "1.5.0",
          "state": {
            "_model_module": "@jupyter-widgets/controls",
            "_model_module_version": "1.5.0",
            "_model_name": "ProgressStyleModel",
            "_view_count": null,
            "_view_module": "@jupyter-widgets/base",
            "_view_module_version": "1.2.0",
            "_view_name": "StyleView",
            "bar_color": null,
            "description_width": ""
          }
        }
      }
    }
  },
  "cells": [
    {
      "cell_type": "code",
      "execution_count": 34,
      "metadata": {
        "colab": {
          "base_uri": "https://localhost:8080/"
        },
        "id": "D8_1wfP2FFd-",
        "outputId": "721ba357-598f-4755-f58e-c3d2d96a2b50"
      },
      "outputs": [
        {
          "output_type": "stream",
          "name": "stdout",
          "text": [
            "Requirement already satisfied: wandb in /usr/local/lib/python3.10/dist-packages (0.17.7)\n",
            "Requirement already satisfied: click!=8.0.0,>=7.1 in /usr/local/lib/python3.10/dist-packages (from wandb) (8.1.7)\n",
            "Requirement already satisfied: docker-pycreds>=0.4.0 in /usr/local/lib/python3.10/dist-packages (from wandb) (0.4.0)\n",
            "Requirement already satisfied: gitpython!=3.1.29,>=1.0.0 in /usr/local/lib/python3.10/dist-packages (from wandb) (3.1.43)\n",
            "Requirement already satisfied: platformdirs in /usr/local/lib/python3.10/dist-packages (from wandb) (4.2.2)\n",
            "Requirement already satisfied: protobuf!=4.21.0,<6,>=3.19.0 in /usr/local/lib/python3.10/dist-packages (from wandb) (3.20.3)\n",
            "Requirement already satisfied: psutil>=5.0.0 in /usr/local/lib/python3.10/dist-packages (from wandb) (5.9.5)\n",
            "Requirement already satisfied: pyyaml in /usr/local/lib/python3.10/dist-packages (from wandb) (6.0.2)\n",
            "Requirement already satisfied: requests<3,>=2.0.0 in /usr/local/lib/python3.10/dist-packages (from wandb) (2.32.3)\n",
            "Requirement already satisfied: sentry-sdk>=1.0.0 in /usr/local/lib/python3.10/dist-packages (from wandb) (2.13.0)\n",
            "Requirement already satisfied: setproctitle in /usr/local/lib/python3.10/dist-packages (from wandb) (1.3.3)\n",
            "Requirement already satisfied: setuptools in /usr/local/lib/python3.10/dist-packages (from wandb) (71.0.4)\n",
            "Requirement already satisfied: six>=1.4.0 in /usr/local/lib/python3.10/dist-packages (from docker-pycreds>=0.4.0->wandb) (1.16.0)\n",
            "Requirement already satisfied: gitdb<5,>=4.0.1 in /usr/local/lib/python3.10/dist-packages (from gitpython!=3.1.29,>=1.0.0->wandb) (4.0.11)\n",
            "Requirement already satisfied: charset-normalizer<4,>=2 in /usr/local/lib/python3.10/dist-packages (from requests<3,>=2.0.0->wandb) (3.3.2)\n",
            "Requirement already satisfied: idna<4,>=2.5 in /usr/local/lib/python3.10/dist-packages (from requests<3,>=2.0.0->wandb) (3.7)\n",
            "Requirement already satisfied: urllib3<3,>=1.21.1 in /usr/local/lib/python3.10/dist-packages (from requests<3,>=2.0.0->wandb) (2.0.7)\n",
            "Requirement already satisfied: certifi>=2017.4.17 in /usr/local/lib/python3.10/dist-packages (from requests<3,>=2.0.0->wandb) (2024.7.4)\n",
            "Requirement already satisfied: smmap<6,>=3.0.1 in /usr/local/lib/python3.10/dist-packages (from gitdb<5,>=4.0.1->gitpython!=3.1.29,>=1.0.0->wandb) (5.0.1)\n"
          ]
        }
      ],
      "source": [
        "!pip install -q kaggle\n",
        "!pip install wandb"
      ]
    },
    {
      "cell_type": "code",
      "source": [
        "wandb.login()"
      ],
      "metadata": {
        "colab": {
          "base_uri": "https://localhost:8080/",
          "height": 126
        },
        "id": "hbHyzQusx0xe",
        "outputId": "b6cb1550-6f2b-4dfa-f639-0ea184712d0e"
      },
      "execution_count": 38,
      "outputs": [
        {
          "output_type": "display_data",
          "data": {
            "text/plain": [
              "<IPython.core.display.Javascript object>"
            ],
            "application/javascript": [
              "\n",
              "        window._wandbApiKey = new Promise((resolve, reject) => {\n",
              "            function loadScript(url) {\n",
              "            return new Promise(function(resolve, reject) {\n",
              "                let newScript = document.createElement(\"script\");\n",
              "                newScript.onerror = reject;\n",
              "                newScript.onload = resolve;\n",
              "                document.body.appendChild(newScript);\n",
              "                newScript.src = url;\n",
              "            });\n",
              "            }\n",
              "            loadScript(\"https://cdn.jsdelivr.net/npm/postmate/build/postmate.min.js\").then(() => {\n",
              "            const iframe = document.createElement('iframe')\n",
              "            iframe.style.cssText = \"width:0;height:0;border:none\"\n",
              "            document.body.appendChild(iframe)\n",
              "            const handshake = new Postmate({\n",
              "                container: iframe,\n",
              "                url: 'https://wandb.ai/authorize'\n",
              "            });\n",
              "            const timeout = setTimeout(() => reject(\"Couldn't auto authenticate\"), 5000)\n",
              "            handshake.then(function(child) {\n",
              "                child.on('authorize', data => {\n",
              "                    clearTimeout(timeout)\n",
              "                    resolve(data)\n",
              "                });\n",
              "            });\n",
              "            })\n",
              "        });\n",
              "    "
            ]
          },
          "metadata": {}
        },
        {
          "output_type": "stream",
          "name": "stderr",
          "text": [
            "\u001b[34m\u001b[1mwandb\u001b[0m: Logging into wandb.ai. (Learn how to deploy a W&B server locally: https://wandb.me/wandb-server)\n",
            "\u001b[34m\u001b[1mwandb\u001b[0m: You can find your API key in your browser here: https://wandb.ai/authorize\n",
            "wandb: Paste an API key from your profile and hit enter, or press ctrl+c to quit:"
          ]
        },
        {
          "name": "stdout",
          "output_type": "stream",
          "text": [
            " ··········\n"
          ]
        },
        {
          "output_type": "stream",
          "name": "stderr",
          "text": [
            "\u001b[34m\u001b[1mwandb\u001b[0m: Appending key for api.wandb.ai to your netrc file: /root/.netrc\n"
          ]
        },
        {
          "output_type": "execute_result",
          "data": {
            "text/plain": [
              "True"
            ]
          },
          "metadata": {},
          "execution_count": 38
        }
      ]
    },
    {
      "cell_type": "markdown",
      "source": [
        "##Import Libraries"
      ],
      "metadata": {
        "id": "l4Tth-BbOLCg"
      }
    },
    {
      "cell_type": "code",
      "source": [
        "import os\n",
        "import pandas as pd\n",
        "import matplotlib.pyplot as plt\n",
        "import tensorflow as tf\n",
        "import nltk\n",
        "import string\n",
        "import re\n",
        "import wandb\n",
        "from sklearn.preprocessing import LabelEncoder\n",
        "from sklearn.model_selection import train_test_split\n",
        "from nltk.corpus import stopwords\n",
        "from nltk.stem import WordNetLemmatizer\n",
        "from nltk.tokenize import word_tokenize\n",
        "from tensorflow.keras.layers import TextVectorization\n",
        "from tensorflow.keras import layers, models"
      ],
      "metadata": {
        "id": "P_rnYCqAKLZN"
      },
      "execution_count": 40,
      "outputs": []
    },
    {
      "cell_type": "code",
      "source": [
        "!mkdir -p ~/.kaggle\n",
        "!cp kaggle.json ~/.kaggle/\n",
        "!chmod 600 ~/.kaggle/kaggle.json\n",
        "\n",
        "# Download and unzip the dataset\n",
        "try:\n",
        "    # Check if the dataset file exists before downloading\n",
        "    if not os.path.exists('/content/finanical-sentiment-analysis'):\n",
        "        !kaggle datasets download -d veer1516/finanical-sentiment-analysis\n",
        "\n",
        "    # Check if the dataset directory exists before unzipping\n",
        "    if not os.path.exists('/content/dataset'):\n",
        "        !mkdir /content/dataset\n",
        "\n",
        "    !unzip -q '/content/finanical-sentiment-analysis.zip' -d '/content/dataset/'\n",
        "\n",
        "    print(\"Dataset downloaded and unzipped successfully.\")\n",
        "except Exception as e:\n",
        "    print(\"Error:\", e)"
      ],
      "metadata": {
        "colab": {
          "base_uri": "https://localhost:8080/"
        },
        "id": "qx_bkR2jJ9iL",
        "outputId": "f734f217-0fab-4f8b-b099-a9343190e3bf"
      },
      "execution_count": 3,
      "outputs": [
        {
          "output_type": "stream",
          "name": "stdout",
          "text": [
            "Dataset URL: https://www.kaggle.com/datasets/veer1516/finanical-sentiment-analysis\n",
            "License(s): Attribution-NonCommercial 4.0 International (CC BY-NC 4.0)\n",
            "Downloading finanical-sentiment-analysis.zip to /content\n",
            " 94% 73.0M/77.4M [00:00<00:00, 93.6MB/s]\n",
            "100% 77.4M/77.4M [00:00<00:00, 87.1MB/s]\n",
            "Dataset downloaded and unzipped successfully.\n"
          ]
        }
      ]
    },
    {
      "cell_type": "markdown",
      "source": [
        "##Constants\n"
      ],
      "metadata": {
        "id": "Rvteqx-tLAlZ"
      }
    },
    {
      "cell_type": "code",
      "source": [
        "BATCH_SIZE = 64\n",
        "\n",
        "MAX_FEATURES = 10000\n",
        "SEQ_LENGTH = 250\n",
        "EMBEDDING_DIM = 300\n",
        "\n",
        "DS_PATH = '/content/dataset/stock_data_verbose.csv'"
      ],
      "metadata": {
        "id": "YCUzRqNCKoCv"
      },
      "execution_count": 4,
      "outputs": []
    },
    {
      "cell_type": "markdown",
      "source": [
        "##Data Preprocessing and Preparation"
      ],
      "metadata": {
        "id": "YjJ2xQmQLG6y"
      }
    },
    {
      "cell_type": "code",
      "source": [
        "df = pd.read_csv(DS_PATH)\n",
        "df.head()"
      ],
      "metadata": {
        "colab": {
          "base_uri": "https://localhost:8080/",
          "height": 206
        },
        "id": "QMsHB9x8LEW_",
        "outputId": "bd1ff9bf-9a6e-4988-d560-d81a9bfb4424"
      },
      "execution_count": 5,
      "outputs": [
        {
          "output_type": "execute_result",
          "data": {
            "text/plain": [
              "                                                Text Sentiment\n",
              "0  One of the other reviewers has mentioned that ...  positive\n",
              "1  A wonderful little production. <br /><br />The...  positive\n",
              "2  I thought this was a wonderful way to spend ti...  positive\n",
              "3  Basically there's a family where a little boy ...  negative\n",
              "4  Petter Mattei's \"Love in the Time of Money\" is...  positive"
            ],
            "text/html": [
              "\n",
              "  <div id=\"df-28da1e4c-fed7-4747-83d5-542cd95f2c25\" class=\"colab-df-container\">\n",
              "    <div>\n",
              "<style scoped>\n",
              "    .dataframe tbody tr th:only-of-type {\n",
              "        vertical-align: middle;\n",
              "    }\n",
              "\n",
              "    .dataframe tbody tr th {\n",
              "        vertical-align: top;\n",
              "    }\n",
              "\n",
              "    .dataframe thead th {\n",
              "        text-align: right;\n",
              "    }\n",
              "</style>\n",
              "<table border=\"1\" class=\"dataframe\">\n",
              "  <thead>\n",
              "    <tr style=\"text-align: right;\">\n",
              "      <th></th>\n",
              "      <th>Text</th>\n",
              "      <th>Sentiment</th>\n",
              "    </tr>\n",
              "  </thead>\n",
              "  <tbody>\n",
              "    <tr>\n",
              "      <th>0</th>\n",
              "      <td>One of the other reviewers has mentioned that ...</td>\n",
              "      <td>positive</td>\n",
              "    </tr>\n",
              "    <tr>\n",
              "      <th>1</th>\n",
              "      <td>A wonderful little production. &lt;br /&gt;&lt;br /&gt;The...</td>\n",
              "      <td>positive</td>\n",
              "    </tr>\n",
              "    <tr>\n",
              "      <th>2</th>\n",
              "      <td>I thought this was a wonderful way to spend ti...</td>\n",
              "      <td>positive</td>\n",
              "    </tr>\n",
              "    <tr>\n",
              "      <th>3</th>\n",
              "      <td>Basically there's a family where a little boy ...</td>\n",
              "      <td>negative</td>\n",
              "    </tr>\n",
              "    <tr>\n",
              "      <th>4</th>\n",
              "      <td>Petter Mattei's \"Love in the Time of Money\" is...</td>\n",
              "      <td>positive</td>\n",
              "    </tr>\n",
              "  </tbody>\n",
              "</table>\n",
              "</div>\n",
              "    <div class=\"colab-df-buttons\">\n",
              "\n",
              "  <div class=\"colab-df-container\">\n",
              "    <button class=\"colab-df-convert\" onclick=\"convertToInteractive('df-28da1e4c-fed7-4747-83d5-542cd95f2c25')\"\n",
              "            title=\"Convert this dataframe to an interactive table.\"\n",
              "            style=\"display:none;\">\n",
              "\n",
              "  <svg xmlns=\"http://www.w3.org/2000/svg\" height=\"24px\" viewBox=\"0 -960 960 960\">\n",
              "    <path d=\"M120-120v-720h720v720H120Zm60-500h600v-160H180v160Zm220 220h160v-160H400v160Zm0 220h160v-160H400v160ZM180-400h160v-160H180v160Zm440 0h160v-160H620v160ZM180-180h160v-160H180v160Zm440 0h160v-160H620v160Z\"/>\n",
              "  </svg>\n",
              "    </button>\n",
              "\n",
              "  <style>\n",
              "    .colab-df-container {\n",
              "      display:flex;\n",
              "      gap: 12px;\n",
              "    }\n",
              "\n",
              "    .colab-df-convert {\n",
              "      background-color: #E8F0FE;\n",
              "      border: none;\n",
              "      border-radius: 50%;\n",
              "      cursor: pointer;\n",
              "      display: none;\n",
              "      fill: #1967D2;\n",
              "      height: 32px;\n",
              "      padding: 0 0 0 0;\n",
              "      width: 32px;\n",
              "    }\n",
              "\n",
              "    .colab-df-convert:hover {\n",
              "      background-color: #E2EBFA;\n",
              "      box-shadow: 0px 1px 2px rgba(60, 64, 67, 0.3), 0px 1px 3px 1px rgba(60, 64, 67, 0.15);\n",
              "      fill: #174EA6;\n",
              "    }\n",
              "\n",
              "    .colab-df-buttons div {\n",
              "      margin-bottom: 4px;\n",
              "    }\n",
              "\n",
              "    [theme=dark] .colab-df-convert {\n",
              "      background-color: #3B4455;\n",
              "      fill: #D2E3FC;\n",
              "    }\n",
              "\n",
              "    [theme=dark] .colab-df-convert:hover {\n",
              "      background-color: #434B5C;\n",
              "      box-shadow: 0px 1px 3px 1px rgba(0, 0, 0, 0.15);\n",
              "      filter: drop-shadow(0px 1px 2px rgba(0, 0, 0, 0.3));\n",
              "      fill: #FFFFFF;\n",
              "    }\n",
              "  </style>\n",
              "\n",
              "    <script>\n",
              "      const buttonEl =\n",
              "        document.querySelector('#df-28da1e4c-fed7-4747-83d5-542cd95f2c25 button.colab-df-convert');\n",
              "      buttonEl.style.display =\n",
              "        google.colab.kernel.accessAllowed ? 'block' : 'none';\n",
              "\n",
              "      async function convertToInteractive(key) {\n",
              "        const element = document.querySelector('#df-28da1e4c-fed7-4747-83d5-542cd95f2c25');\n",
              "        const dataTable =\n",
              "          await google.colab.kernel.invokeFunction('convertToInteractive',\n",
              "                                                    [key], {});\n",
              "        if (!dataTable) return;\n",
              "\n",
              "        const docLinkHtml = 'Like what you see? Visit the ' +\n",
              "          '<a target=\"_blank\" href=https://colab.research.google.com/notebooks/data_table.ipynb>data table notebook</a>'\n",
              "          + ' to learn more about interactive tables.';\n",
              "        element.innerHTML = '';\n",
              "        dataTable['output_type'] = 'display_data';\n",
              "        await google.colab.output.renderOutput(dataTable, element);\n",
              "        const docLink = document.createElement('div');\n",
              "        docLink.innerHTML = docLinkHtml;\n",
              "        element.appendChild(docLink);\n",
              "      }\n",
              "    </script>\n",
              "  </div>\n",
              "\n",
              "\n",
              "<div id=\"df-e5c07ee2-ded4-41e0-be5e-cf2745552069\">\n",
              "  <button class=\"colab-df-quickchart\" onclick=\"quickchart('df-e5c07ee2-ded4-41e0-be5e-cf2745552069')\"\n",
              "            title=\"Suggest charts\"\n",
              "            style=\"display:none;\">\n",
              "\n",
              "<svg xmlns=\"http://www.w3.org/2000/svg\" height=\"24px\"viewBox=\"0 0 24 24\"\n",
              "     width=\"24px\">\n",
              "    <g>\n",
              "        <path d=\"M19 3H5c-1.1 0-2 .9-2 2v14c0 1.1.9 2 2 2h14c1.1 0 2-.9 2-2V5c0-1.1-.9-2-2-2zM9 17H7v-7h2v7zm4 0h-2V7h2v10zm4 0h-2v-4h2v4z\"/>\n",
              "    </g>\n",
              "</svg>\n",
              "  </button>\n",
              "\n",
              "<style>\n",
              "  .colab-df-quickchart {\n",
              "      --bg-color: #E8F0FE;\n",
              "      --fill-color: #1967D2;\n",
              "      --hover-bg-color: #E2EBFA;\n",
              "      --hover-fill-color: #174EA6;\n",
              "      --disabled-fill-color: #AAA;\n",
              "      --disabled-bg-color: #DDD;\n",
              "  }\n",
              "\n",
              "  [theme=dark] .colab-df-quickchart {\n",
              "      --bg-color: #3B4455;\n",
              "      --fill-color: #D2E3FC;\n",
              "      --hover-bg-color: #434B5C;\n",
              "      --hover-fill-color: #FFFFFF;\n",
              "      --disabled-bg-color: #3B4455;\n",
              "      --disabled-fill-color: #666;\n",
              "  }\n",
              "\n",
              "  .colab-df-quickchart {\n",
              "    background-color: var(--bg-color);\n",
              "    border: none;\n",
              "    border-radius: 50%;\n",
              "    cursor: pointer;\n",
              "    display: none;\n",
              "    fill: var(--fill-color);\n",
              "    height: 32px;\n",
              "    padding: 0;\n",
              "    width: 32px;\n",
              "  }\n",
              "\n",
              "  .colab-df-quickchart:hover {\n",
              "    background-color: var(--hover-bg-color);\n",
              "    box-shadow: 0 1px 2px rgba(60, 64, 67, 0.3), 0 1px 3px 1px rgba(60, 64, 67, 0.15);\n",
              "    fill: var(--button-hover-fill-color);\n",
              "  }\n",
              "\n",
              "  .colab-df-quickchart-complete:disabled,\n",
              "  .colab-df-quickchart-complete:disabled:hover {\n",
              "    background-color: var(--disabled-bg-color);\n",
              "    fill: var(--disabled-fill-color);\n",
              "    box-shadow: none;\n",
              "  }\n",
              "\n",
              "  .colab-df-spinner {\n",
              "    border: 2px solid var(--fill-color);\n",
              "    border-color: transparent;\n",
              "    border-bottom-color: var(--fill-color);\n",
              "    animation:\n",
              "      spin 1s steps(1) infinite;\n",
              "  }\n",
              "\n",
              "  @keyframes spin {\n",
              "    0% {\n",
              "      border-color: transparent;\n",
              "      border-bottom-color: var(--fill-color);\n",
              "      border-left-color: var(--fill-color);\n",
              "    }\n",
              "    20% {\n",
              "      border-color: transparent;\n",
              "      border-left-color: var(--fill-color);\n",
              "      border-top-color: var(--fill-color);\n",
              "    }\n",
              "    30% {\n",
              "      border-color: transparent;\n",
              "      border-left-color: var(--fill-color);\n",
              "      border-top-color: var(--fill-color);\n",
              "      border-right-color: var(--fill-color);\n",
              "    }\n",
              "    40% {\n",
              "      border-color: transparent;\n",
              "      border-right-color: var(--fill-color);\n",
              "      border-top-color: var(--fill-color);\n",
              "    }\n",
              "    60% {\n",
              "      border-color: transparent;\n",
              "      border-right-color: var(--fill-color);\n",
              "    }\n",
              "    80% {\n",
              "      border-color: transparent;\n",
              "      border-right-color: var(--fill-color);\n",
              "      border-bottom-color: var(--fill-color);\n",
              "    }\n",
              "    90% {\n",
              "      border-color: transparent;\n",
              "      border-bottom-color: var(--fill-color);\n",
              "    }\n",
              "  }\n",
              "</style>\n",
              "\n",
              "  <script>\n",
              "    async function quickchart(key) {\n",
              "      const quickchartButtonEl =\n",
              "        document.querySelector('#' + key + ' button');\n",
              "      quickchartButtonEl.disabled = true;  // To prevent multiple clicks.\n",
              "      quickchartButtonEl.classList.add('colab-df-spinner');\n",
              "      try {\n",
              "        const charts = await google.colab.kernel.invokeFunction(\n",
              "            'suggestCharts', [key], {});\n",
              "      } catch (error) {\n",
              "        console.error('Error during call to suggestCharts:', error);\n",
              "      }\n",
              "      quickchartButtonEl.classList.remove('colab-df-spinner');\n",
              "      quickchartButtonEl.classList.add('colab-df-quickchart-complete');\n",
              "    }\n",
              "    (() => {\n",
              "      let quickchartButtonEl =\n",
              "        document.querySelector('#df-e5c07ee2-ded4-41e0-be5e-cf2745552069 button');\n",
              "      quickchartButtonEl.style.display =\n",
              "        google.colab.kernel.accessAllowed ? 'block' : 'none';\n",
              "    })();\n",
              "  </script>\n",
              "</div>\n",
              "    </div>\n",
              "  </div>\n"
            ],
            "application/vnd.google.colaboratory.intrinsic+json": {
              "type": "dataframe",
              "variable_name": "df",
              "summary": "{\n  \"name\": \"df\",\n  \"rows\": 51942,\n  \"fields\": [\n    {\n      \"column\": \"Text\",\n      \"properties\": {\n        \"dtype\": \"string\",\n        \"num_unique_values\": 51524,\n        \"samples\": [\n          \"The film was written 10 years back and a different director was planning it with SRK and Aamir in lead roles<br /><br />The film finally was made now with Vipul Shah directing it And Ajay and Salman starring together after a decade HUM DIL DE CHUKE SANAM(1999)<br /><br />The movie however falls short due to it's 90's handling and worst it's loopholes<br /><br />The film tries to pack in too many commercial ingredients and we also hav the love triangle<br /><br />Everything is predictable and filmy and too clich\\u00e9d<br /><br />There are loopholes like how Ajay runs away from London Airport and makes a place for himself with no one? even the way he starts his band is not convincing The second half gets better with the twist in the tale of Ajay destroying Salman but sadly the climax falls short and the film ends on a bad note<br /><br />Direction by Vipul Shah is ordinary to below average Music is the worst point, most songs are mediocre<br /><br />Amongst actors Ajay gives his best shot though he isn't convincing as a Rock singer yet he does superb as the negative role Salman however irritates with his punjabi and talking nonsense he only impresses when he gets drugged and thereon Asin is nothing great just a show piece Ranvijay should stick to MTV Om Puri is okay\",\n          \"There were a lot of dumb teenage getting sex movies of the 80s and a lot of slasher flicks but there were only a handful that were made with thought, made you laugh and captured the time period right; this was one of them. Cage is Hillarious, so is Forman who from her bio unfortuatley has dissapeared from the Hollywood limelight. I'd love to see this released on DVD with in a special version with commentaries by Cage and Forman. Wishful thinking, I know. Ever want to plan a true 80s movie weekend, rent this, Sure Thing and 16 candles and Breakfast Club. It will take you back to a \\\"Totally Rad\\\" time which it seemed at the time, was a lot more simple. Memo to studios: Time to release the DVD!\",\n          \"While the writing was terrible, the acting was atrocious, the only thing that saved this \\\"turd\\\" was the breast count, but that wasn't enough to make me watch this again. All said and done I'm actually dumber from watching this movie. This was a new low for Troma. Lloyd Kaufman starting the movie wearing a garbage bag and making fart noises should have made me realize what I was getting into. This was by far one of the worst ever put out by the Troma team. The best place to show this movie would be to invalids, sense they can't get up to change the channel. To conclude this is not a swift recommendation to watch this movie just for the breasts.\"\n        ],\n        \"semantic_type\": \"\",\n        \"description\": \"\"\n      }\n    },\n    {\n      \"column\": \"Sentiment\",\n      \"properties\": {\n        \"dtype\": \"category\",\n        \"num_unique_values\": 2,\n        \"samples\": [\n          \"negative\",\n          \"positive\"\n        ],\n        \"semantic_type\": \"\",\n        \"description\": \"\"\n      }\n    }\n  ]\n}"
            }
          },
          "metadata": {},
          "execution_count": 5
        }
      ]
    },
    {
      "cell_type": "code",
      "source": [
        "label_encoder = LabelEncoder()\n",
        "df['Sentiment'] = label_encoder.fit_transform(df['Sentiment'])\n",
        "\n",
        "print(df['Sentiment'].unique())"
      ],
      "metadata": {
        "colab": {
          "base_uri": "https://localhost:8080/"
        },
        "id": "03ZQD0QoNZnl",
        "outputId": "002fefd7-95b4-498f-8f7e-845e934f04e7"
      },
      "execution_count": 6,
      "outputs": [
        {
          "output_type": "stream",
          "name": "stdout",
          "text": [
            "[1 0]\n"
          ]
        }
      ]
    },
    {
      "cell_type": "code",
      "source": [
        "df"
      ],
      "metadata": {
        "colab": {
          "base_uri": "https://localhost:8080/",
          "height": 423
        },
        "id": "N86NXycCN-AD",
        "outputId": "93977149-08ba-43cf-ac2f-16057a86e4d4"
      },
      "execution_count": 17,
      "outputs": [
        {
          "output_type": "execute_result",
          "data": {
            "text/plain": [
              "                                                    Text  Sentiment\n",
              "0      One of the other reviewers has mentioned that ...          1\n",
              "1      A wonderful little production. <br /><br />The...          1\n",
              "2      I thought this was a wonderful way to spend ti...          1\n",
              "3      Basically there's a family where a little boy ...          0\n",
              "4      Petter Mattei's \"Love in the Time of Money\" is...          1\n",
              "...                                                  ...        ...\n",
              "51937  I'm going to have to disagree with the previou...          0\n",
              "51938  No one expects the Star Trek movies to be high...          0\n",
              "51939  Aptus Value Housing falls on weak operating pe...          0\n",
              "51940  U.S. Withdraws Offer To Buy 6 Million Barrels ...          0\n",
              "51941  Asian markets fall after Fitch downgrades US debt          0\n",
              "\n",
              "[51942 rows x 2 columns]"
            ],
            "text/html": [
              "\n",
              "  <div id=\"df-44bd8e5b-e243-4d10-b301-1e6151e2dc8f\" class=\"colab-df-container\">\n",
              "    <div>\n",
              "<style scoped>\n",
              "    .dataframe tbody tr th:only-of-type {\n",
              "        vertical-align: middle;\n",
              "    }\n",
              "\n",
              "    .dataframe tbody tr th {\n",
              "        vertical-align: top;\n",
              "    }\n",
              "\n",
              "    .dataframe thead th {\n",
              "        text-align: right;\n",
              "    }\n",
              "</style>\n",
              "<table border=\"1\" class=\"dataframe\">\n",
              "  <thead>\n",
              "    <tr style=\"text-align: right;\">\n",
              "      <th></th>\n",
              "      <th>Text</th>\n",
              "      <th>Sentiment</th>\n",
              "    </tr>\n",
              "  </thead>\n",
              "  <tbody>\n",
              "    <tr>\n",
              "      <th>0</th>\n",
              "      <td>One of the other reviewers has mentioned that ...</td>\n",
              "      <td>1</td>\n",
              "    </tr>\n",
              "    <tr>\n",
              "      <th>1</th>\n",
              "      <td>A wonderful little production. &lt;br /&gt;&lt;br /&gt;The...</td>\n",
              "      <td>1</td>\n",
              "    </tr>\n",
              "    <tr>\n",
              "      <th>2</th>\n",
              "      <td>I thought this was a wonderful way to spend ti...</td>\n",
              "      <td>1</td>\n",
              "    </tr>\n",
              "    <tr>\n",
              "      <th>3</th>\n",
              "      <td>Basically there's a family where a little boy ...</td>\n",
              "      <td>0</td>\n",
              "    </tr>\n",
              "    <tr>\n",
              "      <th>4</th>\n",
              "      <td>Petter Mattei's \"Love in the Time of Money\" is...</td>\n",
              "      <td>1</td>\n",
              "    </tr>\n",
              "    <tr>\n",
              "      <th>...</th>\n",
              "      <td>...</td>\n",
              "      <td>...</td>\n",
              "    </tr>\n",
              "    <tr>\n",
              "      <th>51937</th>\n",
              "      <td>I'm going to have to disagree with the previou...</td>\n",
              "      <td>0</td>\n",
              "    </tr>\n",
              "    <tr>\n",
              "      <th>51938</th>\n",
              "      <td>No one expects the Star Trek movies to be high...</td>\n",
              "      <td>0</td>\n",
              "    </tr>\n",
              "    <tr>\n",
              "      <th>51939</th>\n",
              "      <td>Aptus Value Housing falls on weak operating pe...</td>\n",
              "      <td>0</td>\n",
              "    </tr>\n",
              "    <tr>\n",
              "      <th>51940</th>\n",
              "      <td>U.S. Withdraws Offer To Buy 6 Million Barrels ...</td>\n",
              "      <td>0</td>\n",
              "    </tr>\n",
              "    <tr>\n",
              "      <th>51941</th>\n",
              "      <td>Asian markets fall after Fitch downgrades US debt</td>\n",
              "      <td>0</td>\n",
              "    </tr>\n",
              "  </tbody>\n",
              "</table>\n",
              "<p>51942 rows × 2 columns</p>\n",
              "</div>\n",
              "    <div class=\"colab-df-buttons\">\n",
              "\n",
              "  <div class=\"colab-df-container\">\n",
              "    <button class=\"colab-df-convert\" onclick=\"convertToInteractive('df-44bd8e5b-e243-4d10-b301-1e6151e2dc8f')\"\n",
              "            title=\"Convert this dataframe to an interactive table.\"\n",
              "            style=\"display:none;\">\n",
              "\n",
              "  <svg xmlns=\"http://www.w3.org/2000/svg\" height=\"24px\" viewBox=\"0 -960 960 960\">\n",
              "    <path d=\"M120-120v-720h720v720H120Zm60-500h600v-160H180v160Zm220 220h160v-160H400v160Zm0 220h160v-160H400v160ZM180-400h160v-160H180v160Zm440 0h160v-160H620v160ZM180-180h160v-160H180v160Zm440 0h160v-160H620v160Z\"/>\n",
              "  </svg>\n",
              "    </button>\n",
              "\n",
              "  <style>\n",
              "    .colab-df-container {\n",
              "      display:flex;\n",
              "      gap: 12px;\n",
              "    }\n",
              "\n",
              "    .colab-df-convert {\n",
              "      background-color: #E8F0FE;\n",
              "      border: none;\n",
              "      border-radius: 50%;\n",
              "      cursor: pointer;\n",
              "      display: none;\n",
              "      fill: #1967D2;\n",
              "      height: 32px;\n",
              "      padding: 0 0 0 0;\n",
              "      width: 32px;\n",
              "    }\n",
              "\n",
              "    .colab-df-convert:hover {\n",
              "      background-color: #E2EBFA;\n",
              "      box-shadow: 0px 1px 2px rgba(60, 64, 67, 0.3), 0px 1px 3px 1px rgba(60, 64, 67, 0.15);\n",
              "      fill: #174EA6;\n",
              "    }\n",
              "\n",
              "    .colab-df-buttons div {\n",
              "      margin-bottom: 4px;\n",
              "    }\n",
              "\n",
              "    [theme=dark] .colab-df-convert {\n",
              "      background-color: #3B4455;\n",
              "      fill: #D2E3FC;\n",
              "    }\n",
              "\n",
              "    [theme=dark] .colab-df-convert:hover {\n",
              "      background-color: #434B5C;\n",
              "      box-shadow: 0px 1px 3px 1px rgba(0, 0, 0, 0.15);\n",
              "      filter: drop-shadow(0px 1px 2px rgba(0, 0, 0, 0.3));\n",
              "      fill: #FFFFFF;\n",
              "    }\n",
              "  </style>\n",
              "\n",
              "    <script>\n",
              "      const buttonEl =\n",
              "        document.querySelector('#df-44bd8e5b-e243-4d10-b301-1e6151e2dc8f button.colab-df-convert');\n",
              "      buttonEl.style.display =\n",
              "        google.colab.kernel.accessAllowed ? 'block' : 'none';\n",
              "\n",
              "      async function convertToInteractive(key) {\n",
              "        const element = document.querySelector('#df-44bd8e5b-e243-4d10-b301-1e6151e2dc8f');\n",
              "        const dataTable =\n",
              "          await google.colab.kernel.invokeFunction('convertToInteractive',\n",
              "                                                    [key], {});\n",
              "        if (!dataTable) return;\n",
              "\n",
              "        const docLinkHtml = 'Like what you see? Visit the ' +\n",
              "          '<a target=\"_blank\" href=https://colab.research.google.com/notebooks/data_table.ipynb>data table notebook</a>'\n",
              "          + ' to learn more about interactive tables.';\n",
              "        element.innerHTML = '';\n",
              "        dataTable['output_type'] = 'display_data';\n",
              "        await google.colab.output.renderOutput(dataTable, element);\n",
              "        const docLink = document.createElement('div');\n",
              "        docLink.innerHTML = docLinkHtml;\n",
              "        element.appendChild(docLink);\n",
              "      }\n",
              "    </script>\n",
              "  </div>\n",
              "\n",
              "\n",
              "<div id=\"df-a8a9629d-03d2-4b75-a7ee-9ef6eb967ea5\">\n",
              "  <button class=\"colab-df-quickchart\" onclick=\"quickchart('df-a8a9629d-03d2-4b75-a7ee-9ef6eb967ea5')\"\n",
              "            title=\"Suggest charts\"\n",
              "            style=\"display:none;\">\n",
              "\n",
              "<svg xmlns=\"http://www.w3.org/2000/svg\" height=\"24px\"viewBox=\"0 0 24 24\"\n",
              "     width=\"24px\">\n",
              "    <g>\n",
              "        <path d=\"M19 3H5c-1.1 0-2 .9-2 2v14c0 1.1.9 2 2 2h14c1.1 0 2-.9 2-2V5c0-1.1-.9-2-2-2zM9 17H7v-7h2v7zm4 0h-2V7h2v10zm4 0h-2v-4h2v4z\"/>\n",
              "    </g>\n",
              "</svg>\n",
              "  </button>\n",
              "\n",
              "<style>\n",
              "  .colab-df-quickchart {\n",
              "      --bg-color: #E8F0FE;\n",
              "      --fill-color: #1967D2;\n",
              "      --hover-bg-color: #E2EBFA;\n",
              "      --hover-fill-color: #174EA6;\n",
              "      --disabled-fill-color: #AAA;\n",
              "      --disabled-bg-color: #DDD;\n",
              "  }\n",
              "\n",
              "  [theme=dark] .colab-df-quickchart {\n",
              "      --bg-color: #3B4455;\n",
              "      --fill-color: #D2E3FC;\n",
              "      --hover-bg-color: #434B5C;\n",
              "      --hover-fill-color: #FFFFFF;\n",
              "      --disabled-bg-color: #3B4455;\n",
              "      --disabled-fill-color: #666;\n",
              "  }\n",
              "\n",
              "  .colab-df-quickchart {\n",
              "    background-color: var(--bg-color);\n",
              "    border: none;\n",
              "    border-radius: 50%;\n",
              "    cursor: pointer;\n",
              "    display: none;\n",
              "    fill: var(--fill-color);\n",
              "    height: 32px;\n",
              "    padding: 0;\n",
              "    width: 32px;\n",
              "  }\n",
              "\n",
              "  .colab-df-quickchart:hover {\n",
              "    background-color: var(--hover-bg-color);\n",
              "    box-shadow: 0 1px 2px rgba(60, 64, 67, 0.3), 0 1px 3px 1px rgba(60, 64, 67, 0.15);\n",
              "    fill: var(--button-hover-fill-color);\n",
              "  }\n",
              "\n",
              "  .colab-df-quickchart-complete:disabled,\n",
              "  .colab-df-quickchart-complete:disabled:hover {\n",
              "    background-color: var(--disabled-bg-color);\n",
              "    fill: var(--disabled-fill-color);\n",
              "    box-shadow: none;\n",
              "  }\n",
              "\n",
              "  .colab-df-spinner {\n",
              "    border: 2px solid var(--fill-color);\n",
              "    border-color: transparent;\n",
              "    border-bottom-color: var(--fill-color);\n",
              "    animation:\n",
              "      spin 1s steps(1) infinite;\n",
              "  }\n",
              "\n",
              "  @keyframes spin {\n",
              "    0% {\n",
              "      border-color: transparent;\n",
              "      border-bottom-color: var(--fill-color);\n",
              "      border-left-color: var(--fill-color);\n",
              "    }\n",
              "    20% {\n",
              "      border-color: transparent;\n",
              "      border-left-color: var(--fill-color);\n",
              "      border-top-color: var(--fill-color);\n",
              "    }\n",
              "    30% {\n",
              "      border-color: transparent;\n",
              "      border-left-color: var(--fill-color);\n",
              "      border-top-color: var(--fill-color);\n",
              "      border-right-color: var(--fill-color);\n",
              "    }\n",
              "    40% {\n",
              "      border-color: transparent;\n",
              "      border-right-color: var(--fill-color);\n",
              "      border-top-color: var(--fill-color);\n",
              "    }\n",
              "    60% {\n",
              "      border-color: transparent;\n",
              "      border-right-color: var(--fill-color);\n",
              "    }\n",
              "    80% {\n",
              "      border-color: transparent;\n",
              "      border-right-color: var(--fill-color);\n",
              "      border-bottom-color: var(--fill-color);\n",
              "    }\n",
              "    90% {\n",
              "      border-color: transparent;\n",
              "      border-bottom-color: var(--fill-color);\n",
              "    }\n",
              "  }\n",
              "</style>\n",
              "\n",
              "  <script>\n",
              "    async function quickchart(key) {\n",
              "      const quickchartButtonEl =\n",
              "        document.querySelector('#' + key + ' button');\n",
              "      quickchartButtonEl.disabled = true;  // To prevent multiple clicks.\n",
              "      quickchartButtonEl.classList.add('colab-df-spinner');\n",
              "      try {\n",
              "        const charts = await google.colab.kernel.invokeFunction(\n",
              "            'suggestCharts', [key], {});\n",
              "      } catch (error) {\n",
              "        console.error('Error during call to suggestCharts:', error);\n",
              "      }\n",
              "      quickchartButtonEl.classList.remove('colab-df-spinner');\n",
              "      quickchartButtonEl.classList.add('colab-df-quickchart-complete');\n",
              "    }\n",
              "    (() => {\n",
              "      let quickchartButtonEl =\n",
              "        document.querySelector('#df-a8a9629d-03d2-4b75-a7ee-9ef6eb967ea5 button');\n",
              "      quickchartButtonEl.style.display =\n",
              "        google.colab.kernel.accessAllowed ? 'block' : 'none';\n",
              "    })();\n",
              "  </script>\n",
              "</div>\n",
              "    </div>\n",
              "  </div>\n"
            ],
            "application/vnd.google.colaboratory.intrinsic+json": {
              "type": "dataframe",
              "variable_name": "df",
              "summary": "{\n  \"name\": \"df\",\n  \"rows\": 51942,\n  \"fields\": [\n    {\n      \"column\": \"Text\",\n      \"properties\": {\n        \"dtype\": \"string\",\n        \"num_unique_values\": 51524,\n        \"samples\": [\n          \"The film was written 10 years back and a different director was planning it with SRK and Aamir in lead roles<br /><br />The film finally was made now with Vipul Shah directing it And Ajay and Salman starring together after a decade HUM DIL DE CHUKE SANAM(1999)<br /><br />The movie however falls short due to it's 90's handling and worst it's loopholes<br /><br />The film tries to pack in too many commercial ingredients and we also hav the love triangle<br /><br />Everything is predictable and filmy and too clich\\u00e9d<br /><br />There are loopholes like how Ajay runs away from London Airport and makes a place for himself with no one? even the way he starts his band is not convincing The second half gets better with the twist in the tale of Ajay destroying Salman but sadly the climax falls short and the film ends on a bad note<br /><br />Direction by Vipul Shah is ordinary to below average Music is the worst point, most songs are mediocre<br /><br />Amongst actors Ajay gives his best shot though he isn't convincing as a Rock singer yet he does superb as the negative role Salman however irritates with his punjabi and talking nonsense he only impresses when he gets drugged and thereon Asin is nothing great just a show piece Ranvijay should stick to MTV Om Puri is okay\",\n          \"There were a lot of dumb teenage getting sex movies of the 80s and a lot of slasher flicks but there were only a handful that were made with thought, made you laugh and captured the time period right; this was one of them. Cage is Hillarious, so is Forman who from her bio unfortuatley has dissapeared from the Hollywood limelight. I'd love to see this released on DVD with in a special version with commentaries by Cage and Forman. Wishful thinking, I know. Ever want to plan a true 80s movie weekend, rent this, Sure Thing and 16 candles and Breakfast Club. It will take you back to a \\\"Totally Rad\\\" time which it seemed at the time, was a lot more simple. Memo to studios: Time to release the DVD!\",\n          \"While the writing was terrible, the acting was atrocious, the only thing that saved this \\\"turd\\\" was the breast count, but that wasn't enough to make me watch this again. All said and done I'm actually dumber from watching this movie. This was a new low for Troma. Lloyd Kaufman starting the movie wearing a garbage bag and making fart noises should have made me realize what I was getting into. This was by far one of the worst ever put out by the Troma team. The best place to show this movie would be to invalids, sense they can't get up to change the channel. To conclude this is not a swift recommendation to watch this movie just for the breasts.\"\n        ],\n        \"semantic_type\": \"\",\n        \"description\": \"\"\n      }\n    },\n    {\n      \"column\": \"Sentiment\",\n      \"properties\": {\n        \"dtype\": \"number\",\n        \"std\": 0,\n        \"min\": 0,\n        \"max\": 1,\n        \"num_unique_values\": 2,\n        \"samples\": [\n          0,\n          1\n        ],\n        \"semantic_type\": \"\",\n        \"description\": \"\"\n      }\n    }\n  ]\n}"
            }
          },
          "metadata": {},
          "execution_count": 17
        }
      ]
    },
    {
      "cell_type": "code",
      "source": [
        "train_df, temp_df = train_test_split(df, test_size=0.2, random_state=42)\n",
        "val_df, test_df = train_test_split(temp_df, test_size=0.5, random_state=42)"
      ],
      "metadata": {
        "id": "v3RkF_oaOJva"
      },
      "execution_count": 7,
      "outputs": []
    },
    {
      "cell_type": "code",
      "source": [
        "print(f'Training set size: {len(train_df)}')\n",
        "print(f'Validation set size: {len(val_df)}')\n",
        "print(f'Test set size: {len(test_df)}')"
      ],
      "metadata": {
        "colab": {
          "base_uri": "https://localhost:8080/"
        },
        "id": "9Y8WUY00PvRR",
        "outputId": "c58a95c0-8239-4964-f4df-d87ed8b67d9d"
      },
      "execution_count": 8,
      "outputs": [
        {
          "output_type": "stream",
          "name": "stdout",
          "text": [
            "Training set size: 41553\n",
            "Validation set size: 5194\n",
            "Test set size: 5195\n"
          ]
        }
      ]
    },
    {
      "cell_type": "code",
      "source": [
        "nltk.download('punkt')\n",
        "nltk.download('stopwords')\n",
        "nltk.download('wordnet')\n",
        "\n",
        "# Initialize lemmatizer\n",
        "lemmatizer = WordNetLemmatizer()\n",
        "stop_words = set(stopwords.words('english'))"
      ],
      "metadata": {
        "colab": {
          "base_uri": "https://localhost:8080/"
        },
        "id": "ikTbAf3TbucW",
        "outputId": "b51194eb-5772-4891-f318-d7a2b9644e70"
      },
      "execution_count": 9,
      "outputs": [
        {
          "output_type": "stream",
          "name": "stderr",
          "text": [
            "[nltk_data] Downloading package punkt to /root/nltk_data...\n",
            "[nltk_data]   Unzipping tokenizers/punkt.zip.\n",
            "[nltk_data] Downloading package stopwords to /root/nltk_data...\n",
            "[nltk_data]   Unzipping corpora/stopwords.zip.\n",
            "[nltk_data] Downloading package wordnet to /root/nltk_data...\n"
          ]
        }
      ]
    },
    {
      "cell_type": "code",
      "source": [
        "def standardize(text):\n",
        "    # Remove HTML tags\n",
        "    text = re.sub(r'<[^>]+>', ' ', text)\n",
        "\n",
        "    text = text.lower()\n",
        "    text = text.translate(str.maketrans('', '', string.punctuation))\n",
        "\n",
        "    tokens = word_tokenize(text)\n",
        "    tokens = [lemmatizer.lemmatize(word) for word in tokens if word not in stop_words]\n",
        "\n",
        "    text = ' '.join(tokens)\n",
        "    return text"
      ],
      "metadata": {
        "id": "_Qp2CDHcdY1f"
      },
      "execution_count": 10,
      "outputs": []
    },
    {
      "cell_type": "code",
      "source": [
        "# Apply preprocessing to the text column in each split\n",
        "train_df['Text'] = train_df['Text'].apply(standardize)\n",
        "val_df['Text'] = val_df['Text'].apply(standardize)\n",
        "test_df['Text'] = test_df['Text'].apply(standardize)"
      ],
      "metadata": {
        "id": "DtPYTHbcerru"
      },
      "execution_count": 11,
      "outputs": []
    },
    {
      "cell_type": "code",
      "source": [
        "def df_to_tfds(dataframe, shuffle=False, batch_size=32):\n",
        "    df = dataframe.copy()\n",
        "    labels = df.pop('Sentiment')\n",
        "    ds = tf.data.Dataset.from_tensor_slices((df['Text'].values, labels.values))\n",
        "    if shuffle==True:\n",
        "        ds = ds.shuffle(buffer_size=len(dataframe))\n",
        "    ds = ds.batch(batch_size=batch_size)\n",
        "    return ds"
      ],
      "metadata": {
        "id": "k7jrV9R0P-GU"
      },
      "execution_count": 12,
      "outputs": []
    },
    {
      "cell_type": "code",
      "source": [
        "train_ds = df_to_tfds(train_df, shuffle=True)\n",
        "val_ds = df_to_tfds(val_df)\n",
        "test_ds = df_to_tfds(test_df)"
      ],
      "metadata": {
        "id": "r-TulWNtX4DX"
      },
      "execution_count": 13,
      "outputs": []
    },
    {
      "cell_type": "code",
      "source": [
        "for a,b in train_ds.take(1):\n",
        "    print(a)\n",
        "    print(b)"
      ],
      "metadata": {
        "colab": {
          "base_uri": "https://localhost:8080/"
        },
        "id": "5N6_E8D8bomi",
        "outputId": "d1d511ac-0b88-45c4-8cdf-eb89b822ac21"
      },
      "execution_count": 14,
      "outputs": [
        {
          "output_type": "stream",
          "name": "stdout",
          "text": [
            "tf.Tensor(\n",
            "[b'ordinarily anthony mann made western big guy james stewart gary cooper henry fonda list cowboy star b film tackled something notably different quite bit success turned truly one kind western main character played victor mature trapper mountain man ordinarily romanticized film robert redford jeremiah johnson sort thing hero fact typical mountain man clean cut heroic figure hang real mountain men true mountain man vulgar crude animalistic central figure something see giving mature one better later role real acting chop provided robert preston excellent selfabsorbed custer type cavalry commander james whitmore poor man spencer tracy another old timer feel trapped ever hostile indian one side oncoming force civilization even impressive young anne bancroft officer wife initially repulsed sight matures grisly character find veneer civilization slipping away begin realize shock shes attracted rarely ever remote frontier fort accurately realized screen without romantic allure john ford gave place masterful fort apache battle sequence big scale notably violent particularly impressive seen widescreen format good show underrated movie around'\n",
            " b'one incredibly standard western feature bad acting dull storyline silly action biggest problem perhaps incredibly formulaic movie feature usual clich\\xc3\\xa9s yes even bar fight movie really doesnt surprise make dull weak western watch also least poorly made one obviously small production movie look like got shot 30 day directing editing called bad action sequence featured movie incredibly silly perhaps almost becomes bit humorous watch wrong reason story also isnt interesting pretty friendly western also blood odd reason everybody seems younger brother movie portrayed good friendly guy story get sillier sillier head toward ending younger brother really existed part jamesyounger gang famous brother frank jesse james also part course friendly real life portrayed movie custom early 40 likable man character wasnt really spagethiwestern age really main character became rotten criminal really strangely enough approached always worked better early western main character good side law thing make movie original fact shot color something pretty unique 40 western still give movie something extra wonder though shot western full color movie still done style black white early western actually believe movie would bit credible got done black white instead could easily without western 410'\n",
            " b'watch movie start every summer never cease amuse joke packed near every line dialogue giving bang average simpson episode joke fall flat elicit slight chuckle others leave rolling stick brain audience deaf video know video make pretension anything else easy sit back let bombardment humor begin good mix slapstick pop culture tongueincheek comedy ensures there something everybody sixth grade first saw video admit still find hilarious ive started college good movie watch summer much way might watch wonderful life christmas ten commandment easterpassover funny hell'\n",
            " b'movie gung ho story carlsons makin island raider made 1943 view go moral american people duration second world war show better way cinema constitute body propaganda value film collection artistic film propaganda useless judge direction actor watch movie interested learn propaganda function movie big fun robert mitchum small role film want see film second world war exist much better objective rated 410'\n",
            " b'ive finished viewing 1st disc 4disc 26 episode collection created conjunction ucla film television archive smore entertainment inc far aside 1st episode image quality quite good dvd box shown title page imdb mr peeper charming first saw 5years old time wally cox truly endearing role youre mood quiet comedy sneak opposed hitting head youll treasure chance experience wonderful character might remember childhood although gag bit corny ingenious wellexecutedand even corny one fun one tv series life early childhood memory'\n",
            " b'first sorry giving even rating 1 movie nothing le available film fails every department screenplay direction characterization acting 1 start name movie really c class though movie match name 2 amitabh bachchan try best live character weak script coupled pathetic direction end making humorous character 3 sholay gabbar singh reward 50000 convincing aag figure 100 crore babban amitabh bachchan poor man beaten called hero men bike commute automatic gun making sholay like movie mumbai type setup modern time doesnt look convincing 4 nisha kothari somebody need tell doesnt know acting ram gopal verma casting 5 mohanlal good hardly anything 6 sushant singh rajpal yadav great actor wasted movie 7 legendry role played lila misra mausi basanti sholay replaced cheaply movie gangu mummy ramu please grow understand need intellect movie enough stupid character movie like shiva aag 8 say anything modern jai veerupathetic greatest extent summarize shocked see movie look like cheap comic translation original classic please dont waste money time movie think watching aap ka surror thought worst movie possible would better idea see horrible package stupid character bad song miserable direction thanks saurabh'\n",
            " b'first killjoy 1 here review killjoy 2 contains spoiler beware reader oh oh ill start telling hope least bit movie would good considering killjoy first movie without doubt worst movie ever made sequel didnt much promise expected didnt deliver death even lamer first movie absolutely eye candy whatsoever every single prop looked fake wouldnt surprised kindergarten class make look dont even know begin hm starter movie wasnt even feature length hour eight minute long 68 min ending early actually reprieve fact thats reason movie wasnt bad first first longer usually dont give spoiler review since dont want go torture watching waste film im going spoil away there much spoil let start ending killjoy pussiest killer ever take explosion firebomb gun etc kill normal serial killer horror movie guess took kill killjoy fing glass water lie end girl picked cup water threw water killjoy face killjoy started screaming tried make look like face melting putting dried rubber cement forehead laid people went sleep let hit acting terrible even one person believable least bit dont even know say look like hired hobo living street act film seriously honestly doubt spent 100 dollar total make movie nothing took place wood wouldnt cost anything film actor werent giving effort whatsoever blatant probably working free didnt kind special effect nice prop probably used ketchup blood hell kidding probably didnt even spend 100 dollar probably spent 329 bottle ketchup fkin movie made budget 329 bob sake couldnt even afford rent cop uniform end killjoy dy girl wake say main woman reply he gone suddenly fat goofy guy scar face pop nowhere cell phone saying phone call girl answer say oh hi mom smile fat goofy guy walk along reveal police officer however he wearing khaki pant regular button green shirt lame badge front pocket hell probably badge director got safety patrol 3rd grade got tan blazer drove credit rolled couldnt even get police cruiser got tan blazer fkin lame killjoy didnt even ice cream van first movie killjoy without doubt flamboyantly gay slasher ever slasher wore hot pink spandex carried rainbow flag still would gay killjoy killjoy isnt funny either believe try good thing movie extremely lame threat given one delinquent somebody make comment boy passing third grade boy responds ill show third grade threatening manner absolute worst threat ive ever heard ill show third grade movie doesnt even work bad good level filth unless something bad feeling guilty want punish severely dont watch movie remember flaming homosexual clown huge black afro try bore death gay joke attempt kill time throw water case closed final rating 1 10'\n",
            " b'interest raised flipping saw name iphigenia name eugenia thought ok let see glad stayed channel wonderful wonderful story drama sadness top acting wonderful time watch make sad drivel movie industry put beautiful little gem get passed give iphigenia try hope enjoy much even gotten child 27 25 20 17 enjoy start slow however drama build drawn story watching lovely film made want shroud greek tragedy pathos'\n",
            " b'first murder scene one best murder film historyalmost good shower scene psycho acting robert walker fantastica psychopath involved tennis star exchange murdersthat\\xc2\\xb4s story overall film good there one problemwhy dosen\\xc2\\xb4t guy haines go cop first place45'\n",
            " b'cartoon spytroops movie pretty bad 44 minute long yet several battle occur culminating destruction cobra headquarters one downer beginning movie animated battle better rest movie turn kind battle simulation right major turnoff made rest movie lack credibility issue shipwreck tied along parrot tossed room nobody checked several day whatever happened surveillance camera cobra base handful character rest bat robot aside lot corridor cobra base seem weapon tank truck equipment silly notion 100 complex android could created overnight plot silly even intended small child spongebob powerpuff girl even barney dinosaur give attention plot character bad except could never understand anything destro saying cobra commander silly much villain fact except storm shadow xartan rest cobra character comical hardly impressive gi joe character pretty good scarlett agent face road block snake eye favorite shipwreck beach head worst shipwreck written goofball beach head sounded like 1990s surfer dude guess writer larry hama trying make character appealed teenager decade mark listening beach head spicoli surfertalk fast time ridgemont high wondering new gi joes going smoke dube big mission cgi pretty good except cobra commander jerking spastic walk vehicle look realistic flying tank explosion impressive old style animation would much better since hasbro reportedly like thing cheap got paid trouble watching whole thing boring lacked soul gi joe spirit even old gi joe commercial would better fact dvd included extra four five current commercial gi joe spy troop commercial much entertaining movie commercial kidoriented fun spirit commercial lively movie dull'\n",
            " b'agree vince movie paved way goodfellas scene pesci throwing peanut piano player reminded funny routine goodfellas highly underrated film deserves attention many mob film theme death collector ring true always respect'\n",
            " b'movie cant decide soft porno sf movie enough plot real movie way much porno galaxy far far away good princess know shes good long blonde hair wear white toga polite mooning wistfully dying mother first see inherits kingdom elder sister evil know dark hair wear much makeup abuse male sexual slave sneer curl lip time talk imperiously horror shell perpetrate shes queen evil princess get upset try stage coup good sister get away earth course materializes buck naked bar wet tshirt contest really go downhill acting ludicrous dialog sound like written porno general storyline ridiculous there even enough skin make happy sort person whod watch skin love good bad movie one even enjoyable bad movie level'\n",
            " b'frank sinatra first three film purely speciality act ostensibly playing merely show croon song nightclub sequence somebody el movie fourth film enjoyable higher higher young blue eye transition acting career playing actual role task made easier he playing fictional story give chance croon number sinatra entrance quite funny michele morgan hears knock door asks who outside hobokentoned voice answer frank sinatra sure enough opening credit higher higher may confuse viewer name songwriter rodgers hart prominently displayed fact contributed one song musical disgustingly rich cast manage toss sort intro entirely different song im debutante interestingly rodgers hart song one weakest perhaps least enjoyable song movie score several others lively uptempo number notably important affair come love youre saw first sinatra good movie would better work sing better material elsewhere real merit higher higher delightful turn performer rarely made film paul grace hartman extremely popular husbandwife dance team starred several broadway revue genuinely graceful ballroom dancer put plenty physical comedy dance material grace high kick knock shoe paul hand grace hartman died cancer age 48 almost film work real pleasure film give u rare chance see closeup hear beautiful singing voice notice sexy look maid uniform grace hartmans death husband long career character actor occasionally dancing solo alongside ken berry one memorable episode mayberry rfd also quite attractive maid uniform higher higher vivacious teenage singer marcy mcguire didnt talented girl make movie perhaps bit similar personality betty hutton enjoy hutton performance like marcy mcguire even better near end higher higher there amusing bit physical business featuring mcguire mary wickes waitress taking turn move table table nightclub alternating stride short mcguire tall gawky wickes hilarious regrettably although leon errol play large role higher higher given almost comedy business famous rubberlegged dance jack haley despite prominent billing also wasted wellrepresented dooley wilson inevitably remembered sam casablanca film wilson singing faked keyboard performance time go real life wilson couldnt play piano higher higher sings pleasingly give amusing reaction player le enjoyable mel odious mean mel torme victor borge give rare film performance handling dialogue deftly never keyboard comedy later successfully stage show plot forget higher higher nobody idea great musical enjoyable delight ill rate 8 10 director tim whelan worked britain well hollywood deserves much better known'\n",
            " b'spent eight year running movie theatre 80 90 far worst film ever showed public one thing made bad put air trying great inspiring film even great gregory peck could save horrid piece drivel far le mediocre jamie lee curtis early nonhorror film role demonstrated clearly yet learned act shes still trying isnt getting much better im sorry here spoiler international nuclear disarmament never going happen make child afraid play little league baseball even show nick disney channel stupid enough try make u believe dreck worth time would waste watching cable tv worth price movie rental dollar would better spent extra package microwave popcorn go movie picked better'\n",
            " b'normally write review movie online one three reason either found something exceptionally lacking film otherwise would excellent feel public perception film viewing inaccurate number reason believe purpose message film need clarified explained help reviewer reason may appear somewhat negative find writing review lavishes nothing praise statement one best film time nothing enlighten potential viewer merit downside often give reasoning movie good point review first place said war world nothing hurried incompetent attempt money grab piggybacking loathsome carcass multimillion dollar advertising campaign film name directed steven spielberg many people buy dvd anticipation summer blockbuster many poor soul buy looking material subject movie even bad becomes funny endearing rather audience unbelievably disappointed reach point anger insult way allow give argument warning fortunate judging cover lack publicity film found sam club 8 buck assumed cast would nonames special effect would nothing spectacular check big deal find large budget overreliance big name star se diminish otherwise decent movie also expect blown away great dialog moving score check hope actual serious attempt classic theme alienbattle scene per imdbs policy spoiler must announced advance matter small fair warning movie open lot inane smalltalk followed trip observatory look red dot seriously picture red dot tube hard describe every little issue depth end first ten minute combination shaky camerawork spliced scene lot walking begin frustrate viewer however costuming surprisingly bad hope pod reveal something mysterious keep going next 30 minute basically go follows one main character walk one pod look pod talk another main character looking pod may hot walk back town walk arent two second added dialog may exchanged twenty second simply add filler already bloated three hour movie particularly grueling scene main character shown looking pod shown pacing panting look pod take one minute walk field town come town walk building cup coffee say thank mary random maid serf coffee put coffee walk building walk minute field back pod apologize extreme runon sentence perhaps best way summarize entire film character speak way long mundane thing walk lot send people walk camera fluctuates high speed slow speed dramatic effect simply camera man sophomore tech somewhere editing mindbogglingly bad people action make little sense instance professor go farmer house say need farmer give ride town farmer stutter pace around professor say pod men might trapped inside farmer lock shed see professor grab pitchfork open weak shed second later nothing consequence course come entire scene professor run main character moment later begin afternoon walk entire film feel someone one point good idea making film absolutely idea put motion seen better high school video production finally special effect laughable nothing advance story get feeling director really wanted film become somewhat cult classic campy garbage however awful technical aspect sheer common sense make people mad avoid film cost'\n",
            " b'really liked batman dead end thought theatrical feel given chance collora could make fine film trailer didnt quite give impression story line potential story line quite good due acting special effect left feeling like would made good tv movie television show first michael ohearn good superman actually thought brief appearance made decent clark kent sorry dont think superman buff suit kent wore masked size batman may body bodybuilder superman supes toned doubt bulk anyway didnt care posing transformation kent superman seemed cheezy may ohearns fault collora may take credit poor scripting direction second special effect flying cheezy superman fly sky obvious superman flew close ground telephone cable building visible dont think full body shot superman flying evidently harness rigging supporting ohearn must located lower torso good trailer id probably pay see film ever made would sure catch television story line alliance lexcorp wayne industry superman jealous loiss attraction wayne lex twoface teaming beat superman joining force batman superman good one im sure larger budget approval full film collora company even ohearn could deliver decent film certainly one better comic based crap coming hollywood lately'\n",
            " b'amazing movie turn one hitlists far number 1 worst movie ever seen ever bored luckily 15 hour preadolescent attempt humor feature even close getting one corner mouth slightly tilted first awkward part tend hope part least slightly better hope vain go downhill movie story worth telling whatsoever repeat nonstory three time one hope miracle remaining copy movie lost forever trent harris never lay hand camera'\n",
            " b'theo robertson commented waw didnt adequately cover condition wwi lead hitler rise wwii perhaps missed first one quarter hour volume 8 cover period together earlier volume series show clearly existing condition feel friend mine grew germany period joined hitler youth even experience similar mentioned waw documentary far history channel documentary also comparison fault small one waw number included many time instance youre talking lendlease much war material lentleased much russia much britian many merchant ship uboats sink many ship german japanese navy total 1941 type many troop many troop ally total country lot number could made lot viewer nod would preferred naturally always want see military analysis like didnt patton clark trap german army cassini surrounded instead racing monty rome letting escape dont think begin understand war youve seen video segment total war like fire bombing dresden like trying understand auschwitz etc see clip death camp cant wrap head around unbelievable unknown time course unfilmed egregious cruelty inhumanity japanese including cannibalism read flyboys live vivisection medical experimentation prisoner wo anesthetic dave'\n",
            " b'understand movie received good grade critic ive seen ten documentary tv wine world much much better watch please think two annoying aspect mondovino first filming awful terrible upsetting looked like guy behind camera received material playing plenty zoom purpose pushing button inout instance almost stopped watch secondly interviewer director think really relevant look like ask question like boy scout like journalist even general idea theme would interesting bad conclusion overrated documentary maybe guy know nothing wine recommended 210'\n",
            " b'first saw film theater way back 40 kid always remembered ending nothing like first impression movie always treat time viewed something resonates one film agree another reviewer said fritz lang directed western add always liked randolph scott robert young fact robert young star consider favorite movie name one easy thing film northwest passage led superb historical novel kenneth robert western union likewise led reading zane grey novel case turned one rare case like movie better novel grey novel bad one like movie story better movie way resembles novel completely different tale one biggest departure book seen cant add much review except say agree many wish would released dvd whatever happened randolph scott happened best'\n",
            " b'one great classic comedy slapstick comedy heavy drama fun satirical film buyer beware guide new home filled great character cary grant convinced fleece building dream home great look life late 40'\n",
            " b'one boring slasher ever even call wouldnt watch even ended kind porno movie completely resembles fact youre watching small group middleaged people wood really unbearable made kind movie teen really aiming made sleepfest favorite part movie cover art reason chose seek movie happened part suspense classic 50 movie pack seeing movie 50 pack youll realize belongs nowhere else youre mood decent slasher wood recommend dawn final terror'\n",
            " b'addition fireplace export demand lining stone exceeded level earlier part year continue clearly brisker remainder year'\n",
            " b'there lot going college girl murder mad scientist creates almost undetectable poisonous gas reap reward discovery scientist killed hooded whipwelding monk coed killed church gas scotland yard called investigate killing continues stop mad killer seems able come go plea college work killer whats like killer sneak around wearing vivid red kkk looking outfit complete red glove white whip carry us effectively stand nicely bright red gown although idea killer flaming red pointyhead outfit sneaking around girl school fairly farfetched one sinister looking costume ive seen groovy 60 music really would like track title music college girl murder got jazzy hip 60 feel loved bizarre touch beyond killer red gown hood movie feature sliding fireplace pit alligator cage handing overhead poison spraying bible strategically placed mannequin miniskirt gogo boot mile high hair would describe cross 60 batman tv show italian giallo college girl murder real treat eye end let say twist mountain road think killer uncovered come twist another another another doesnt work chief inspector sir john know guy meant comic relief buffoonish character way much screen time alligator previously mentioned alligator pit nice touch serve little purpose go trouble use plodding plot college girl murder flow rhythm far many moment throughout movie thing come inexplicably screeching halt better pacing would made much enjoyable movie havent seen many german krimis seen phantom soho strangler blackmoor castle dead eye london may favorite one real funky feel really go plot flowed little better could easily given college girl murder 710'\n",
            " b'never started film stopped watching 34s missed really botched ending film disappointment could much better nice atmosphere top notch cast director good location baaaaaad story line bad script paid attention kenneth branaghs southern accentit better script plot stupiddriven character acting unreal improbable way one behaves like outside hollywood script'\n",
            " b'paris je aime movie explores different kind aspect love emotion provokes movie reunites best director around world gu van sant joel ethan coen walter salles aread morend alfonso cuaron tell short story love located paris one particular way directing film also one best cast ever seen movie including great actor like willem dafoe steve buscemi natalie portman elijah wood gerard depardieu many one great performance conclusion movie compilation story happiness separation unexpected encounter love'\n",
            " b'uhf channel reception fuzzy id really like movie since reason watched first place bus driver time saw movie driving model bus murder trial 15 year later remember vaguely oj one star recall driver bus shot driven wildly ive looking movie avail since viewing mid80s liked movie dont usually watch thriller reading summary tv guide viewing beginning although fuzzy stayed whole thing'\n",
            " b'steven seagal mr personality time united state greatest stealth pilot promised pardon militarywho attempted swipe memory beginning movie escaped base later caught interrupting gang robber shootout gas stationif able successfully infiltrate northern afghanistan terrorist base operated group called black sunday commandeered air force stealth fighter thanks american traitor along fellow pilot admired traitor jannickmark bazeley john sandsseagalwill fly enemy territory receiving help arab lover jessicaciera paytonand freedom fighter rojaralki david ground jannick kidnapped black sunday leader stonevincenzo nicoliand female enforcer elianakatie jones sand must figure retake command kidnapped stealth fighter rescue well maybe sand get revenge traitor trained rathersteve toussaintin process sand 72 hour general navy pilot bomb entire area board stealth black sunday equipped biochemical bomb hoping detonate united state seagal get chance shoot afghan isnt slicing throat knife film mostly machine gun firing body dropping dead setting afghanistan doesnt hold scrutinynor easily seagal co able move area undetected easily plot nothing write home movie edited fast camera bit jerky seagal isnt active hero action scene tightly edited hard time seeing taking foe unlike good old day one seagals poorest effort he understated evernot compliment even disappointing fact seagal never fight hand hand combat film chief villain ti shame doesnt even snap wrist crack neck visible waysure see slight resemblance tool getting tossed around clear picture enjoy filmmaker fast edits dizzying closeup'\n",
            " b'first let start negative point 1 huge gaping whole story line question raised get near answered 2 movie people impolite viewer get restless start yapping movie point two important movie quiet older type theater like one went hear reel going projector time loved movie keep busy music effect let reflect upon happening lack rhythm generates atmosphere fascinating utterly enjoyable kind atmosphere generated stanley kubrick eye wide shut people would highly recommend fan cinema cinematographic work amazing base appreciation movie solely story utterly disappointed kind story make link mind afterwards version pretty darn cool probably quite offtrack go catch movie one cool part two cop talking cell phone ultracool sound effect really put moment hat person thought'\n",
            " b'nice see julie andrew trying straight dramatic role heresomething hadnt done awhilebut character judithwise didnt try pas judyhas old refined manner tomboyish hairstyle yore andrew enacts grownup actress would interpret frigid surprisingly bland drama set barbados involving omar sharifnot liveliest leading man aroundnot even 1974hoping make andrew spy also slowly leading proverbial bedroom unmemorable outing camp value james bondlike credit beginning cheesy hoot julie shes quiet contemplative doesnt much audience film blake edward pace freakin thing like funeral'\n",
            " b'yes plot predictable yes plot hole yes madefortv quality yes britney spear wrote book obvious selfpromotion forget movie fun fun school special sortofway fun nevertheless virginia madsen mother great job good im going start watching movie reminded diane lane good reason rest cast fine job casting agent id scouting young actor production value usual tv standard music really great better several bigbudget movie ive seen youre mood german noir movie isnt want safe fun underrated movie good one one could show 10 year old daughter enjoy'\n",
            " b'way way back 1980s long nafta drafted corporation began shed national identity united state japan others throat world manufacturing race remember saying like union yes japanese taking country american lazy reagan era winded corporation edged towards global marketplace director ron howard made one several trip comedy genre 1986 smash gung ho drew 36 million u box office receipt many way dated howard tongueincheek story colliding culture workplace still offer hard truth industrial life today gung ho focus hunt stevenson michael keaton automaker union rep hadleyville small depressed town foothill pennsylvania stevenson asked visit assan motor company tokyo similar reallife toyota considering u operation town empty plant hundred resident work town verging collapse assan decides move stevenson hired liaison company official worker assembly line 112 minute gung ho humorous look two side strength weakness equally considered one hand american workforce value tradition often caught frenzy pride trade unionism hand japanese worker extremely devoted job yet lacking personal satisfaction feeling selfworth stevenson find american working class figure average intelligence skill chat people misunderstanding survival worker job hadleyville line stevenson prof likable guy want nothing fair chance although cleverness sink great deal trouble besides answering head assan witness delicate balancing act stevenson fellow union member many grew includes buster george wendt willie john turturro paul clint howard ron brother japanese cast headed gedde watanabe also known sixteen candle volunteer watanabe play kazihiro plant manager luck begin feel sympathy american life constantly shadowed saito sab shimono nephew assans ceo desperate take spot pecking order given light touch character fare well conveying idea japanese working culture hunt stevenson dominating script michael keaton give solid performance film work gung ho indeed slamdunk success keaton also teamed ron howard 1994s paper made film string lighter role included mr mom beetle juice dream team venturing batman one good cop life also hard like gedde watanabes performance odd man first wear japanese ribbon shame teaming stevenson make auto plant cohesive unit supporting cast topnotch including wendt turturro shimono soh yamamura assan ceo sakamoto mimi rogers supply romantic interest audrey hunt girlfriend edwin blum lowell ganz babaloo mandel teamed gung ho solid writing incidental music received bmi film music award composed thomas newman gung ho soundtrack song walltowall 80 including dont get wrong tuff enuff working class man success gung ho actually led shortlived tv series abc impressive social commentary twenty year ago ron howard film still comic value available dvd part paramount widescreen collection tad shortchanged audio option provided english 51 surround english dolby surround french dubbing subtitle english extra even theatrical trailer plus side paramounts digital transfer quite good little grain opening credit high quality sound extra would helpful especially gung ho box office success there little complain film presentation 4'], shape=(32,), dtype=string)\n",
            "tf.Tensor([1 0 1 0 1 0 0 1 1 0 1 0 1 0 0 1 0 1 0 1 1 0 1 1 0 1 1 0 1 0 1 1], shape=(32,), dtype=int64)\n"
          ]
        }
      ]
    },
    {
      "cell_type": "code",
      "source": [
        "vectorize_layer = TextVectorization(max_tokens=MAX_FEATURES,\n",
        "                                    output_mode='int',\n",
        "                                    output_sequence_length=SEQ_LENGTH)"
      ],
      "metadata": {
        "id": "DancS4YdYOMj"
      },
      "execution_count": 17,
      "outputs": []
    },
    {
      "cell_type": "code",
      "source": [
        "# Adapt the vectorize layer to the training text data\n",
        "train_text = train_df['Text'].values\n",
        "vectorize_layer.adapt(train_text)"
      ],
      "metadata": {
        "id": "lzwqWm-ekxXr"
      },
      "execution_count": 18,
      "outputs": []
    },
    {
      "cell_type": "code",
      "source": [
        "len(vectorize_layer.get_vocabulary())"
      ],
      "metadata": {
        "colab": {
          "base_uri": "https://localhost:8080/"
        },
        "id": "jwSRFBTNnBuL",
        "outputId": "7cf6cdcc-6753-40fb-f484-2909c3fa804a"
      },
      "execution_count": 22,
      "outputs": [
        {
          "output_type": "execute_result",
          "data": {
            "text/plain": [
              "10000"
            ]
          },
          "metadata": {},
          "execution_count": 22
        }
      ]
    },
    {
      "cell_type": "code",
      "source": [
        "vectorize_layer.get_vocabulary()[555]"
      ],
      "metadata": {
        "colab": {
          "base_uri": "https://localhost:8080/",
          "height": 36
        },
        "id": "_dBpBySRnTHV",
        "outputId": "c30de511-40bf-4db5-9e9f-0c04357bc2bb"
      },
      "execution_count": 25,
      "outputs": [
        {
          "output_type": "execute_result",
          "data": {
            "text/plain": [
              "'message'"
            ],
            "application/vnd.google.colaboratory.intrinsic+json": {
              "type": "string"
            }
          },
          "metadata": {},
          "execution_count": 25
        }
      ]
    },
    {
      "cell_type": "code",
      "source": [
        "def vectorize_text(text, label):\n",
        "    text = tf.expand_dims(text, -1)\n",
        "    return vectorize_layer(text), label"
      ],
      "metadata": {
        "id": "hy66DvjYlPYJ"
      },
      "execution_count": 19,
      "outputs": []
    },
    {
      "cell_type": "code",
      "source": [
        "train_ds = train_ds.map(vectorize_text)\n",
        "val_ds = val_ds.map(vectorize_text)\n",
        "test_ds = test_ds.map(vectorize_text)"
      ],
      "metadata": {
        "id": "mkjkaCPhlaQr"
      },
      "execution_count": 20,
      "outputs": []
    },
    {
      "cell_type": "code",
      "source": [
        "for a,b in train_ds.take(1):\n",
        "    print(a)\n",
        "    print(b)"
      ],
      "metadata": {
        "colab": {
          "base_uri": "https://localhost:8080/"
        },
        "id": "xeekTyPhlqYr",
        "outputId": "d6aee858-63d8-47c4-a7c9-5c65ae60c229"
      },
      "execution_count": 26,
      "outputs": [
        {
          "output_type": "stream",
          "name": "stdout",
          "text": [
            "tf.Tensor(\n",
            "[[ 196  193 1013 ...    0    0    0]\n",
            " [ 121 3060 2740 ...    0    0    0]\n",
            " [ 121    2  887 ...    0    0    0]\n",
            " ...\n",
            " [  40   27 1675 ...    0    0    0]\n",
            " [  15   15   22 ...    0    0    0]\n",
            " [ 550   71    1 ...    0    0    0]], shape=(32, 250), dtype=int64)\n",
            "tf.Tensor([0 1 0 0 0 1 1 1 0 1 1 0 1 1 1 0 0 1 1 0 0 1 0 0 1 1 0 1 1 1 0 0], shape=(32,), dtype=int64)\n"
          ]
        }
      ]
    },
    {
      "cell_type": "code",
      "source": [
        "train_ds = train_ds.prefetch(buffer_size=tf.data.AUTOTUNE)\n",
        "val_ds = val_ds.prefetch(buffer_size=tf.data.AUTOTUNE)"
      ],
      "metadata": {
        "id": "fuWWN-ccvZjS"
      },
      "execution_count": 30,
      "outputs": []
    },
    {
      "cell_type": "markdown",
      "source": [
        "###Track the data on wandb"
      ],
      "metadata": {
        "id": "MuAmyh5mzn9K"
      }
    },
    {
      "cell_type": "markdown",
      "source": [
        "####Initialize project"
      ],
      "metadata": {
        "id": "QI2nclILlq1e"
      }
    },
    {
      "cell_type": "code",
      "source": [
        "wandb.init(project='fin-sentiment-analysis', entity='petar-boskovic-ac')"
      ],
      "metadata": {
        "colab": {
          "base_uri": "https://localhost:8080/",
          "height": 543
        },
        "id": "0PchB6LQzx-U",
        "outputId": "5970b1c0-4c79-4241-f503-093566736eb3"
      },
      "execution_count": 41,
      "outputs": [
        {
          "output_type": "stream",
          "name": "stderr",
          "text": [
            "\u001b[34m\u001b[1mwandb\u001b[0m: Currently logged in as: \u001b[33mpetar-boskovic-ac\u001b[0m. Use \u001b[1m`wandb login --relogin`\u001b[0m to force relogin\n"
          ]
        },
        {
          "output_type": "display_data",
          "data": {
            "text/plain": [
              "<IPython.core.display.HTML object>"
            ],
            "text/html": [
              "Tracking run with wandb version 0.17.7"
            ]
          },
          "metadata": {}
        },
        {
          "output_type": "display_data",
          "data": {
            "text/plain": [
              "<IPython.core.display.HTML object>"
            ],
            "text/html": [
              "Run data is saved locally in <code>/content/wandb/run-20240820_124526-w13e8wzq</code>"
            ]
          },
          "metadata": {}
        },
        {
          "output_type": "display_data",
          "data": {
            "text/plain": [
              "<IPython.core.display.HTML object>"
            ],
            "text/html": [
              "Syncing run <strong><a href='https://wandb.ai/petar-boskovic-ac/fin-sentiment-analysis/runs/w13e8wzq' target=\"_blank\">feasible-planet-1</a></strong> to <a href='https://wandb.ai/petar-boskovic-ac/fin-sentiment-analysis' target=\"_blank\">Weights & Biases</a> (<a href='https://wandb.me/run' target=\"_blank\">docs</a>)<br/>"
            ]
          },
          "metadata": {}
        },
        {
          "output_type": "display_data",
          "data": {
            "text/plain": [
              "<IPython.core.display.HTML object>"
            ],
            "text/html": [
              " View project at <a href='https://wandb.ai/petar-boskovic-ac/fin-sentiment-analysis' target=\"_blank\">https://wandb.ai/petar-boskovic-ac/fin-sentiment-analysis</a>"
            ]
          },
          "metadata": {}
        },
        {
          "output_type": "display_data",
          "data": {
            "text/plain": [
              "<IPython.core.display.HTML object>"
            ],
            "text/html": [
              " View run at <a href='https://wandb.ai/petar-boskovic-ac/fin-sentiment-analysis/runs/w13e8wzq' target=\"_blank\">https://wandb.ai/petar-boskovic-ac/fin-sentiment-analysis/runs/w13e8wzq</a>"
            ]
          },
          "metadata": {}
        },
        {
          "output_type": "execute_result",
          "data": {
            "text/html": [
              "<button onClick=\"this.nextSibling.style.display='block';this.style.display='none';\">Display W&B run</button><iframe src='https://wandb.ai/petar-boskovic-ac/fin-sentiment-analysis/runs/w13e8wzq?jupyter=true' style='border:none;width:100%;height:420px;display:none;'></iframe>"
            ],
            "text/plain": [
              "<wandb.sdk.wandb_run.Run at 0x7f8f7a3744c0>"
            ]
          },
          "metadata": {},
          "execution_count": 41
        }
      ]
    },
    {
      "cell_type": "code",
      "source": [
        "# Log the initial dataset as a wandb artifact\n",
        "artifact = wandb.Artifact('stock_data', type='dataset')\n",
        "artifact.add_file('/content/dataset/stock_data_verbose.csv')\n",
        "wandb.log_artifact(artifact)"
      ],
      "metadata": {
        "colab": {
          "base_uri": "https://localhost:8080/"
        },
        "id": "dOKvu7QV0rAm",
        "outputId": "71a3cdfb-4916-4670-83fd-fee394a07e76"
      },
      "execution_count": 43,
      "outputs": [
        {
          "output_type": "execute_result",
          "data": {
            "text/plain": [
              "<Artifact stock_data>"
            ]
          },
          "metadata": {},
          "execution_count": 43
        }
      ]
    },
    {
      "cell_type": "markdown",
      "source": [
        "Track dataset transformations in wandb"
      ],
      "metadata": {
        "id": "4HeGFYR-1asm"
      }
    },
    {
      "cell_type": "code",
      "source": [
        "# Log preprocessing steps as metadata\n",
        "wandb.config.preprocessing = {'applied_after_split': True,\n",
        "                              'lowercase': True,\n",
        "                              'remove_stopwords': True,\n",
        "                              'lemmatization': True,\n",
        "                              'remove_punctuation': True,\n",
        "                              'remove_html_tags': True}"
      ],
      "metadata": {
        "id": "WTZveJmi1ADs"
      },
      "execution_count": 44,
      "outputs": []
    },
    {
      "cell_type": "code",
      "source": [
        "# Save the transformed splits\n",
        "train_csv_path = '/content/dataset/stock_data_train_transformed.csv'\n",
        "val_csv_path = '/content/dataset/stock_data_val_transformed.csv'\n",
        "test_csv_path = '/content/dataset/stock_data_test_transformed.csv'\n",
        "\n",
        "train_df.to_csv(train_csv_path, index=False)\n",
        "val_df.to_csv(val_csv_path, index=False)\n",
        "test_df.to_csv(test_csv_path, index=False)"
      ],
      "metadata": {
        "id": "a9-tea9E2B5U"
      },
      "execution_count": 45,
      "outputs": []
    },
    {
      "cell_type": "code",
      "source": [
        "# Create separate W&B artifacts for each split\n",
        "train_artifact = wandb.Artifact('stock_data_train_transformed', type='dataset')\n",
        "val_artifact = wandb.Artifact('stock_data_val_transformed', type='dataset')\n",
        "test_artifact = wandb.Artifact('stock_data_test_transformed', type='dataset')"
      ],
      "metadata": {
        "id": "AORot_KV3ZB1"
      },
      "execution_count": 46,
      "outputs": []
    },
    {
      "cell_type": "code",
      "source": [
        "# Add the transformed splits to the corresponding artifacts\n",
        "train_artifact.add_file(train_csv_path)\n",
        "val_artifact.add_file(val_csv_path)\n",
        "test_artifact.add_file(test_csv_path)\n",
        "\n",
        "# Log the artifacts\n",
        "wandb.log_artifact(train_artifact)\n",
        "wandb.log_artifact(val_artifact)\n",
        "wandb.log_artifact(test_artifact)"
      ],
      "metadata": {
        "colab": {
          "base_uri": "https://localhost:8080/"
        },
        "id": "pfvPF3jK3jnj",
        "outputId": "ba22f634-186f-46f9-9bf7-a5dfaf9b376f"
      },
      "execution_count": 47,
      "outputs": [
        {
          "output_type": "execute_result",
          "data": {
            "text/plain": [
              "<Artifact stock_data_test_transformed>"
            ]
          },
          "metadata": {},
          "execution_count": 47
        }
      ]
    },
    {
      "cell_type": "code",
      "source": [
        "wandb.config.data_split = {'train_split': 0.8,\n",
        "                           'validation_split': 0.1,\n",
        "                           'test_split': 0.1}"
      ],
      "metadata": {
        "id": "LgEfOj9d3u2_"
      },
      "execution_count": 48,
      "outputs": []
    },
    {
      "cell_type": "code",
      "source": [
        "wandb.finish()"
      ],
      "metadata": {
        "colab": {
          "base_uri": "https://localhost:8080/",
          "height": 105,
          "referenced_widgets": [
            "057c335c55c04ebc89f065c234c319f3",
            "9f64274a35f54164b19112fbedc77718",
            "79e4b9e15ced43f3be771d10031f30b9",
            "6ec60420097e418694f9b53bd994b41e",
            "cda0f8abcc534075b273f6fd1441b142",
            "7ad4cba300d145cb83efee3cff942a76",
            "485c6b1dfbee4c0588bdc3062c35c98c",
            "62748624b38c463682b1af5fff57592e"
          ]
        },
        "id": "EvxAOJE24EPK",
        "outputId": "652f25b4-a751-47eb-840a-e378b46b9074"
      },
      "execution_count": 49,
      "outputs": [
        {
          "output_type": "display_data",
          "data": {
            "text/plain": [
              "VBox(children=(Label(value='102.897 MB of 102.897 MB uploaded\\r'), FloatProgress(value=1.0, max=1.0)))"
            ],
            "application/vnd.jupyter.widget-view+json": {
              "version_major": 2,
              "version_minor": 0,
              "model_id": "057c335c55c04ebc89f065c234c319f3"
            }
          },
          "metadata": {}
        },
        {
          "output_type": "display_data",
          "data": {
            "text/plain": [
              "<IPython.core.display.HTML object>"
            ],
            "text/html": [
              " View run <strong style=\"color:#cdcd00\">feasible-planet-1</strong> at: <a href='https://wandb.ai/petar-boskovic-ac/fin-sentiment-analysis/runs/w13e8wzq' target=\"_blank\">https://wandb.ai/petar-boskovic-ac/fin-sentiment-analysis/runs/w13e8wzq</a><br/> View project at: <a href='https://wandb.ai/petar-boskovic-ac/fin-sentiment-analysis' target=\"_blank\">https://wandb.ai/petar-boskovic-ac/fin-sentiment-analysis</a><br/>Synced 4 W&B file(s), 0 media file(s), 4 artifact file(s) and 0 other file(s)"
            ]
          },
          "metadata": {}
        },
        {
          "output_type": "display_data",
          "data": {
            "text/plain": [
              "<IPython.core.display.HTML object>"
            ],
            "text/html": [
              "Find logs at: <code>./wandb/run-20240820_124526-w13e8wzq/logs</code>"
            ]
          },
          "metadata": {}
        },
        {
          "output_type": "display_data",
          "data": {
            "text/plain": [
              "<IPython.core.display.HTML object>"
            ],
            "text/html": [
              "The new W&B backend becomes opt-out in version 0.18.0; try it out with `wandb.require(\"core\")`! See https://wandb.me/wandb-core for more information."
            ]
          },
          "metadata": {}
        }
      ]
    },
    {
      "cell_type": "markdown",
      "source": [
        "####Reinitialize W&B"
      ],
      "metadata": {
        "id": "OdcJx_wbr-4W"
      }
    },
    {
      "cell_type": "code",
      "source": [
        "wandb.init(project=\"financial-sentiment-analysis\", entity=\"petar-boskovic-ac\")"
      ],
      "metadata": {
        "id": "BBziV74Yr-Dg"
      },
      "execution_count": null,
      "outputs": []
    },
    {
      "cell_type": "markdown",
      "source": [
        "In order to avoid duplicate artifacts, check first if the artifact exists"
      ],
      "metadata": {
        "id": "TuEcnb1csRXD"
      }
    },
    {
      "cell_type": "code",
      "source": [
        "artifacts = ['stock_data_train_transformed',\n",
        "             'stock_data_val_transformed',\n",
        "             'stock_data_test_transformed']"
      ],
      "metadata": {
        "id": "FisqnBuGs5Yg"
      },
      "execution_count": null,
      "outputs": []
    },
    {
      "cell_type": "code",
      "source": [
        "try:\n",
        "    train_artifact = wandb.use_artifact('stock_data_train_transformed:latest', type='dataset')\n",
        "    val_artifact = wandb.use_artifact('stock_data_val_transformed:latest', type='dataset')\n",
        "    test_artifact = wandb.use_artifact('stock_data_test_transformed:latest', type='dataset')\n",
        "    print('Artifact already exists. Skipping upload.')\n",
        "except wandb.errors.CommError:\n",
        "    # Create and log the artifact if it does not exist\n",
        "    train_artifact = wandb.Artifact('stock_data_train_transformed', type='dataset')\n",
        "    val_artifact = wandb.Artifact('stock_data_val_transformed', type='dataset')\n",
        "    test_artifact = wandb.Artifact('stock_data_test_transformed', type='dataset')\n",
        "\n",
        "    # Add the transformed splits to the corresponding artifacts\n",
        "    train_artifact.add_file(train_csv_path)\n",
        "    val_artifact.add_file(val_csv_path)\n",
        "    test_artifact.add_file(test_csv_path)\n",
        "\n",
        "    # Log the artifacts\n",
        "    wandb.log_artifact(train_artifact)\n",
        "    wandb.log_artifact(val_artifact)\n",
        "    wandb.log_artifact(test_artifact)"
      ],
      "metadata": {
        "id": "6wjtF-olschS"
      },
      "execution_count": null,
      "outputs": []
    },
    {
      "cell_type": "markdown",
      "source": [
        "Download the artifacts"
      ],
      "metadata": {
        "id": "AEb0HheLuMja"
      }
    },
    {
      "cell_type": "code",
      "source": [
        "train_artifact = wandb.use_artifact('stock_data_train_transformed:latest', type='dataset')\n",
        "val_artifact = wandb.use_artifact('stock_data_val_transformed:latest', type='dataset')\n",
        "test_artifact = wandb.use_artifact('stock_data_test_transformed:latest', type='dataset')\n",
        "\n",
        "train_dir = train_artifact.download()\n",
        "val_dir = val_artifact.download()\n",
        "test_dir = test_artifact.download()"
      ],
      "metadata": {
        "id": "lg2Q-H_vuRmr"
      },
      "execution_count": null,
      "outputs": []
    }
  ]
}